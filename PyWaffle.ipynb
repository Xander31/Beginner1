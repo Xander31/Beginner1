{
 "cells": [
  {
   "cell_type": "code",
   "execution_count": 2,
   "metadata": {},
   "outputs": [
    {
     "name": "stdout",
     "output_type": "stream",
     "text": [
      "Collecting pywaffle\n",
      "  Downloading https://files.pythonhosted.org/packages/21/59/b66cd1b69b60703c63c7aae487881dd28334ca921c5631551819a9b6cfc3/pywaffle-0.6.3-py2.py3-none-any.whl (526kB)\n",
      "Requirement already satisfied: matplotlib in c:\\users\\aker\\anaconda3\\lib\\site-packages (from pywaffle) (3.1.1)\n",
      "Requirement already satisfied: cycler>=0.10 in c:\\users\\aker\\anaconda3\\lib\\site-packages (from matplotlib->pywaffle) (0.10.0)\n",
      "Requirement already satisfied: kiwisolver>=1.0.1 in c:\\users\\aker\\anaconda3\\lib\\site-packages (from matplotlib->pywaffle) (1.1.0)\n",
      "Requirement already satisfied: pyparsing!=2.0.4,!=2.1.2,!=2.1.6,>=2.0.1 in c:\\users\\aker\\anaconda3\\lib\\site-packages (from matplotlib->pywaffle) (2.4.2)\n",
      "Requirement already satisfied: python-dateutil>=2.1 in c:\\users\\aker\\anaconda3\\lib\\site-packages (from matplotlib->pywaffle) (2.8.0)\n",
      "Requirement already satisfied: numpy>=1.11 in c:\\users\\aker\\anaconda3\\lib\\site-packages (from matplotlib->pywaffle) (1.16.5)\n",
      "Requirement already satisfied: six in c:\\users\\aker\\anaconda3\\lib\\site-packages (from cycler>=0.10->matplotlib->pywaffle) (1.12.0)\n",
      "Requirement already satisfied: setuptools in c:\\users\\aker\\anaconda3\\lib\\site-packages (from kiwisolver>=1.0.1->matplotlib->pywaffle) (41.4.0)\n",
      "Installing collected packages: pywaffle\n",
      "Successfully installed pywaffle-0.6.3\n"
     ]
    }
   ],
   "source": [
    "#PyWaffle:\n",
    "!pip install pywaffle"
   ]
  },
  {
   "cell_type": "code",
   "execution_count": 4,
   "metadata": {},
   "outputs": [],
   "source": [
    "import matplotlib.pyplot as plt\n",
    "from pywaffle import Waffle"
   ]
  },
  {
   "cell_type": "code",
   "execution_count": 6,
   "metadata": {},
   "outputs": [
    {
     "name": "stderr",
     "output_type": "stream",
     "text": [
      "C:\\Users\\Aker\\Anaconda3\\lib\\site-packages\\ipykernel_launcher.py:6: UserWarning: Matplotlib is currently using module://ipykernel.pylab.backend_inline, which is a non-GUI backend, so cannot show the figure.\n",
      "  \n"
     ]
    },
    {
     "data": {
      "image/png": "[encoded data removed]",
      "text/plain": [
       "<Waffle size 432x288 with 1 Axes>"
      ]
     },
     "metadata": {
      "needs_background": "light"
     },
     "output_type": "display_data"
    }
   ],
   "source": [
    "#Forma màs simple:\n",
    "fig = plt.figure(\n",
    "    FigureClass = Waffle,\n",
    "    rows = 6,                   #Solo necesario rows o columns ya que con el total se calcula lo otro.\n",
    "    values = [5, 2, 15]        #El numero de elementos por cada \"color\" distinto\n",
    ")\n",
    "fig.show()"
   ]
  },
  {
   "cell_type": "code",
   "execution_count": 13,
   "metadata": {},
   "outputs": [
    {
     "name": "stderr",
     "output_type": "stream",
     "text": [
      "C:\\Users\\Aker\\Anaconda3\\lib\\site-packages\\ipykernel_launcher.py:8: UserWarning: Matplotlib is currently using module://ipykernel.pylab.backend_inline, which is a non-GUI backend, so cannot show the figure.\n",
      "  \n"
     ]
    },
    {
     "data": {
      "image/png": "[encoded data removed]",
      "text/plain": [
       "<Waffle size 432x288 with 1 Axes>"
      ]
     },
     "metadata": {
      "needs_background": "light"
     },
     "output_type": "display_data"
    }
   ],
   "source": [
    "#Lo podemos usar con un diccionario para tener leyenda:\n",
    "fig = plt.figure(\n",
    "    FigureClass = Waffle,\n",
    "    rows = 5,\n",
    "    values = {\"Varon\":5, \"Mujer\":7, \"No se sabe\": 2},         #Le damos los valores con dict para tener leyenda\n",
    "    legend = {'loc': 'upper left', \"bbox_to_anchor\":(1,1)}    #Vemos donde aparecera la leyenda.\n",
    ")\n",
    "fig.show()"
   ]
  },
  {
   "cell_type": "code",
   "execution_count": 16,
   "metadata": {},
   "outputs": [
    {
     "name": "stderr",
     "output_type": "stream",
     "text": [
      "C:\\Users\\Aker\\Anaconda3\\lib\\site-packages\\ipykernel_launcher.py:16: UserWarning: Matplotlib is currently using module://ipykernel.pylab.backend_inline, which is a non-GUI backend, so cannot show the figure.\n",
      "  app.launch_new_instance()\n"
     ]
    },
    {
     "data": {
      "image/png": "[encoded data removed]",
      "text/plain": [
       "<Waffle size 432x288 with 1 Axes>"
      ]
     },
     "metadata": {
      "needs_background": "light"
     },
     "output_type": "display_data"
    }
   ],
   "source": [
    "#Con iconos\n",
    "fig = plt.figure(\n",
    "    FigureClass = Waffle,\n",
    "    rows = 5,\n",
    "    values = [30, 16, 4],\n",
    "    icons = [\"sun\", \"cloud-showers-heavy\", \"snowflake\"],\n",
    "    icon_style = \"solid\",\n",
    "    colors = [\"#FFA500\", \"#4384FF\", \"#C0C0C0\"],\n",
    "    icon_legend = True,\n",
    "    legend = {\n",
    "        \"labels\": [\"Sun\", \"Shower\", \"Snow\"],\n",
    "        \"loc\": \"upper left\",\n",
    "        \"bbox_to_anchor\":(1,1)\n",
    "    }\n",
    ")\n",
    "fig.show()"
   ]
  },
  {
   "cell_type": "code",
   "execution_count": null,
   "metadata": {},
   "outputs": [],
   "source": []
  },
  {
   "cell_type": "code",
   "execution_count": null,
   "metadata": {},
   "outputs": [],
   "source": []
  },
  {
   "cell_type": "code",
   "execution_count": null,
   "metadata": {},
   "outputs": [],
   "source": []
  },
  {
   "cell_type": "code",
   "execution_count": null,
   "metadata": {},
   "outputs": [],
   "source": []
  },
  {
   "cell_type": "code",
   "execution_count": null,
   "metadata": {},
   "outputs": [],
   "source": []
  },
  {
   "cell_type": "code",
   "execution_count": null,
   "metadata": {},
   "outputs": [],
   "source": []
  },
  {
   "cell_type": "code",
   "execution_count": null,
   "metadata": {},
   "outputs": [],
   "source": []
  },
  {
   "cell_type": "code",
   "execution_count": null,
   "metadata": {},
   "outputs": [],
   "source": []
  },
  {
   "cell_type": "code",
   "execution_count": null,
   "metadata": {},
   "outputs": [],
   "source": []
  },
  {
   "cell_type": "code",
   "execution_count": null,
   "metadata": {},
   "outputs": [],
   "source": []
  }
 ],
 "metadata": {
  "kernelspec": {
   "display_name": "Python 3",
   "language": "python",
   "name": "python3"
  },
  "language_info": {
   "codemirror_mode": {
    "name": "ipython",
    "version": 3
   },
   "file_extension": ".py",
   "mimetype": "text/x-python",
   "name": "python",
   "nbconvert_exporter": "python",
   "pygments_lexer": "ipython3",
   "version": "3.7.4"
  }
 },
 "nbformat": 4,
 "nbformat_minor": 2
}
